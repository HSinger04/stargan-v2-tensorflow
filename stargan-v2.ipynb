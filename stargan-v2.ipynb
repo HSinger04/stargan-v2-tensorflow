{
  "nbformat": 4,
  "nbformat_minor": 0,
  "metadata": {
    "colab": {
      "name": "assignment3.ipynb",
      "provenance": [],
      "collapsed_sections": []
    },
    "kernelspec": {
      "display_name": "Python 3",
      "language": "python",
      "name": "python3"
    },
    "language_info": {
      "codemirror_mode": {
        "name": "ipython",
        "version": 3
      },
      "file_extension": ".py",
      "mimetype": "text/x-python",
      "name": "python",
      "nbconvert_exporter": "python",
      "pygments_lexer": "ipython3",
      "version": "3.7.3"
    }
  },
  "cells": [
    {
      "cell_type": "markdown",
      "metadata": {
        "id": "FQntiASAkVk5"
      },
      "source": [
        "[![Open In Colab](https://colab.research.google.com/assets/colab-badge.svg)](https://colab.research.google.com/github/HSinger04/stargan-v2-tensorflow/blob/master/stargan-v2.ipynb)"
      ]
    },
    {
      "cell_type": "code",
      "metadata": {
        "id": "FvoSy7kO0RFN"
      },
      "source": [
        "# TODO: Mount GDrive and run stargan-v2\n",
        "from google import colab\n",
        "import inspect\n",
        "# TODO: to use: colab.drive.mount"
      ],
      "execution_count": 1,
      "outputs": []
    },
    {
      "cell_type": "code",
      "metadata": {
        "id": "fitlzO4o1I83",
        "colab": {
          "base_uri": "https://localhost:8080/"
        },
        "outputId": "c2216b68-9d2f-45a1-9a6a-250517f010b6"
      },
      "source": [
        "# TODO: remove\n",
        "# TODO: maybe try automatic authentication? See https://stackoverflow.com/questions/52808143/colab-automatic-authentication-of-connection-to-google-drive-persistent-per-n\n",
        "colab.drive.mount('/content/drive', force_remount=True)"
      ],
      "execution_count": 2,
      "outputs": [
        {
          "output_type": "stream",
          "text": [
            "Mounted at /content/drive\n"
          ],
          "name": "stdout"
        }
      ]
    },
    {
      "cell_type": "code",
      "metadata": {
        "id": "kZQshb8j1OSv",
        "colab": {
          "base_uri": "https://localhost:8080/"
        },
        "outputId": "53323af5-9d0d-478c-b82b-1fb8d8fee014"
      },
      "source": [
        "# Install repo\n",
        "!git clone https://github.com/HSinger04/stargan-v2-tensorflow"
      ],
      "execution_count": 3,
      "outputs": [
        {
          "output_type": "stream",
          "text": [
            "fatal: destination path 'stargan-v2-tensorflow' already exists and is not an empty directory.\n"
          ],
          "name": "stdout"
        }
      ]
    },
    {
      "cell_type": "code",
      "metadata": {
        "id": "dVzuRxvd5C-W",
        "colab": {
          "base_uri": "https://localhost:8080/"
        },
        "outputId": "3a397c41-9216-4e95-e5c9-8c71af662e57"
      },
      "source": [
        "# pip install packages\n",
        "%pip install opencv-python Pillow\n",
        "%pip install --upgrade tqdm"
      ],
      "execution_count": 4,
      "outputs": [
        {
          "output_type": "stream",
          "text": [
            "Requirement already satisfied: opencv-python in /usr/local/lib/python3.6/dist-packages (4.1.2.30)\n",
            "Requirement already satisfied: Pillow in /usr/local/lib/python3.6/dist-packages (7.0.0)\n",
            "Requirement already satisfied: numpy>=1.11.3 in /usr/local/lib/python3.6/dist-packages (from opencv-python) (1.19.5)\n",
            "Requirement already up-to-date: tqdm in /usr/local/lib/python3.6/dist-packages (4.56.0)\n"
          ],
          "name": "stdout"
        }
      ]
    },
    {
      "cell_type": "code",
      "metadata": {
        "id": "20BOp_0133ke",
        "colab": {
          "base_uri": "https://localhost:8080/"
        },
        "outputId": "625f5eca-6f1b-4a9e-967f-24b61ba9fee2"
      },
      "source": [
        "# Change to git repo\n",
        "%cd /content/stargan-v2-tensorflow\n",
        "# run script\n",
        "!python main.py --dataset /content/drive/MyDrive/celeba_hq --phase train"
      ],
      "execution_count": 5,
      "outputs": [
        {
          "output_type": "stream",
          "text": [
            "/content/stargan-v2-tensorflow\n",
            "2021-02-04 16:56:02.899425: I tensorflow/stream_executor/platform/default/dso_loader.cc:49] Successfully opened dynamic library libcudart.so.10.1\n",
            "2021-02-04 16:56:05.033196: I tensorflow/compiler/jit/xla_cpu_device.cc:41] Not creating XLA devices, tf_xla_enable_xla_devices not set\n",
            "2021-02-04 16:56:05.069011: I tensorflow/stream_executor/platform/default/dso_loader.cc:49] Successfully opened dynamic library libcuda.so.1\n",
            "2021-02-04 16:56:05.136751: E tensorflow/stream_executor/cuda/cuda_driver.cc:328] failed call to cuInit: CUDA_ERROR_NO_DEVICE: no CUDA-capable device is detected\n",
            "2021-02-04 16:56:05.136812: I tensorflow/stream_executor/cuda/cuda_diagnostics.cc:156] kernel driver does not appear to be running on this host (219b7d0c7fb2): /proc/driver/nvidia/version does not exist\n",
            "\n",
            "##### Information #####\n",
            "# gan type :  gan-gp\n",
            "# dataset :  /content/drive/MyDrive/celeba_hq\n",
            "# domain_list :  ['female', 'female_old', 'male']\n",
            "# batch_size :  8\n",
            "# max iteration :  100000\n",
            "# ds iteration :  100000\n",
            "\n",
            "##### Generator #####\n",
            "# latent_dim :  16\n",
            "# style_dim :  64\n",
            "# num_style :  5\n",
            "\n",
            "##### Mapping Network #####\n",
            "# hidden_dim :  512\n",
            "\n",
            "##### Discriminator #####\n",
            "# spectral normalization :  False\n",
            "Dataset number :  28095\n",
            "2021-02-04 16:57:53.316270: I tensorflow/compiler/jit/xla_gpu_device.cc:99] Not creating XLA devices, tf_xla_enable_xla_devices not set\n",
            "2021-02-04 16:57:54.934596: I tensorflow/compiler/mlir/mlir_graph_optimization_pass.cc:116] None of the MLIR optimization passes are enabled (registered 2)\n",
            "2021-02-04 16:57:54.962680: I tensorflow/core/platform/profile_utils/cpu_utils.cc:112] CPU Frequency: 2299995000 Hz\n",
            "Traceback (most recent call last):\n",
            "  File \"main.py\", line 117, in <module>\n",
            "    main()\n",
            "  File \"main.py\", line 103, in main\n",
            "    gan.build_model()\n",
            "  File \"/content/stargan-v2-tensorflow/StarGAN_v2.py\", line 145, in build_model\n",
            "    self.mapping_network = MappingNetwork(self.style_dim, self.hidden_dim, self.num_domains, sn=False, name='MappingNetwork')\n",
            "  File \"/content/stargan-v2-tensorflow/networks.py\", line 85, in __init__\n",
            "    self.shared_layers, self.unshared_layers = self.architecture_init()\n",
            "  File \"/content/stargan-v2-tensorflow/networks.py\", line 96, in architecture_init\n",
            "    shared_layers = Sequential(layers)\n",
            "  File \"/usr/local/lib/python3.6/dist-packages/tensorflow/python/training/tracking/base.py\", line 517, in _method_wrapper\n",
            "    result = method(self, *args, **kwargs)\n",
            "  File \"/usr/local/lib/python3.6/dist-packages/tensorflow/python/keras/engine/sequential.py\", line 144, in __init__\n",
            "    self.add(layer)\n",
            "  File \"/usr/local/lib/python3.6/dist-packages/tensorflow/python/training/tracking/base.py\", line 517, in _method_wrapper\n",
            "    result = method(self, *args, **kwargs)\n",
            "  File \"/usr/local/lib/python3.6/dist-packages/tensorflow/python/keras/engine/sequential.py\", line 191, in add\n",
            "    'to pass a unique name.' % (layer.name,))\n",
            "ValueError: All layers added to a Sequential model should have unique names. Name \"relu\" is already the name of a layer in this model. Update the `name` argument to pass a unique name.\n"
          ],
          "name": "stdout"
        }
      ]
    },
    {
      "cell_type": "code",
      "metadata": {
        "id": "ulXRzt9L4zw8",
        "colab": {
          "base_uri": "https://localhost:8080/"
        },
        "outputId": "fdf7628f-88bc-40b1-87bd-7896cb69bab5"
      },
      "source": [
        "!pip install \"git+https://github.com/tqdm/tqdm.git@devel#egg=tqdm\"\n",
        "# TODO: remove\n",
        "import tqdm\n",
        "# apparently, tqdm.tqdm is https://github.com/tqdm/tqdm/blob/e697193740cbc2789eeb6b485e4199cd3177d932/tqdm/std.py\n",
        "#from tqdm import tqdm\n",
        "inspect.getmembers(tqdm.contrib)"
      ],
      "execution_count": 46,
      "outputs": [
        {
          "output_type": "stream",
          "text": [
            "Requirement already satisfied: tqdm from git+https://github.com/tqdm/tqdm.git@devel#egg=tqdm in /usr/local/lib/python3.6/dist-packages (4.41.1)\n"
          ],
          "name": "stdout"
        },
        {
          "output_type": "execute_result",
          "data": {
            "text/plain": [
              "[('DummyTqdmFile', tqdm.contrib.DummyTqdmFile),\n",
              " ('ObjectWrapper', tqdm.utils.ObjectWrapper),\n",
              " ('__builtins__',\n",
              "  {'ArithmeticError': ArithmeticError,\n",
              "   'AssertionError': AssertionError,\n",
              "   'AttributeError': AttributeError,\n",
              "   'BaseException': BaseException,\n",
              "   'BlockingIOError': BlockingIOError,\n",
              "   'BrokenPipeError': BrokenPipeError,\n",
              "   'BufferError': BufferError,\n",
              "   'BytesWarning': BytesWarning,\n",
              "   'ChildProcessError': ChildProcessError,\n",
              "   'ConnectionAbortedError': ConnectionAbortedError,\n",
              "   'ConnectionError': ConnectionError,\n",
              "   'ConnectionRefusedError': ConnectionRefusedError,\n",
              "   'ConnectionResetError': ConnectionResetError,\n",
              "   'DeprecationWarning': DeprecationWarning,\n",
              "   'EOFError': EOFError,\n",
              "   'Ellipsis': Ellipsis,\n",
              "   'EnvironmentError': OSError,\n",
              "   'Exception': Exception,\n",
              "   'False': False,\n",
              "   'FileExistsError': FileExistsError,\n",
              "   'FileNotFoundError': FileNotFoundError,\n",
              "   'FloatingPointError': FloatingPointError,\n",
              "   'FutureWarning': FutureWarning,\n",
              "   'GeneratorExit': GeneratorExit,\n",
              "   'IOError': OSError,\n",
              "   'ImportError': ImportError,\n",
              "   'ImportWarning': ImportWarning,\n",
              "   'IndentationError': IndentationError,\n",
              "   'IndexError': IndexError,\n",
              "   'InterruptedError': InterruptedError,\n",
              "   'IsADirectoryError': IsADirectoryError,\n",
              "   'KeyError': KeyError,\n",
              "   'KeyboardInterrupt': KeyboardInterrupt,\n",
              "   'LookupError': LookupError,\n",
              "   'MemoryError': MemoryError,\n",
              "   'ModuleNotFoundError': ModuleNotFoundError,\n",
              "   'NameError': NameError,\n",
              "   'None': None,\n",
              "   'NotADirectoryError': NotADirectoryError,\n",
              "   'NotImplemented': NotImplemented,\n",
              "   'NotImplementedError': NotImplementedError,\n",
              "   'OSError': OSError,\n",
              "   'OverflowError': OverflowError,\n",
              "   'PendingDeprecationWarning': PendingDeprecationWarning,\n",
              "   'PermissionError': PermissionError,\n",
              "   'ProcessLookupError': ProcessLookupError,\n",
              "   'RecursionError': RecursionError,\n",
              "   'ReferenceError': ReferenceError,\n",
              "   'ResourceWarning': ResourceWarning,\n",
              "   'RuntimeError': RuntimeError,\n",
              "   'RuntimeWarning': RuntimeWarning,\n",
              "   'StopAsyncIteration': StopAsyncIteration,\n",
              "   'StopIteration': StopIteration,\n",
              "   'SyntaxError': SyntaxError,\n",
              "   'SyntaxWarning': SyntaxWarning,\n",
              "   'SystemError': SystemError,\n",
              "   'SystemExit': SystemExit,\n",
              "   'TabError': TabError,\n",
              "   'TimeoutError': TimeoutError,\n",
              "   'True': True,\n",
              "   'TypeError': TypeError,\n",
              "   'UnboundLocalError': UnboundLocalError,\n",
              "   'UnicodeDecodeError': UnicodeDecodeError,\n",
              "   'UnicodeEncodeError': UnicodeEncodeError,\n",
              "   'UnicodeError': UnicodeError,\n",
              "   'UnicodeTranslateError': UnicodeTranslateError,\n",
              "   'UnicodeWarning': UnicodeWarning,\n",
              "   'UserWarning': UserWarning,\n",
              "   'ValueError': ValueError,\n",
              "   'Warning': Warning,\n",
              "   'ZeroDivisionError': ZeroDivisionError,\n",
              "   '__IPYTHON__': True,\n",
              "   '__build_class__': <function __build_class__>,\n",
              "   '__debug__': True,\n",
              "   '__doc__': \"Built-in functions, exceptions, and other objects.\\n\\nNoteworthy: None is the `nil' object; Ellipsis represents `...' in slices.\",\n",
              "   '__import__': <function __import__>,\n",
              "   '__loader__': _frozen_importlib.BuiltinImporter,\n",
              "   '__name__': 'builtins',\n",
              "   '__package__': '',\n",
              "   '__spec__': ModuleSpec(name='builtins', loader=<class '_frozen_importlib.BuiltinImporter'>),\n",
              "   'abs': <function abs>,\n",
              "   'all': <function all>,\n",
              "   'any': <function any>,\n",
              "   'ascii': <function ascii>,\n",
              "   'bin': <function bin>,\n",
              "   'bool': bool,\n",
              "   'bytearray': bytearray,\n",
              "   'bytes': bytes,\n",
              "   'callable': <function callable>,\n",
              "   'chr': <function chr>,\n",
              "   'classmethod': classmethod,\n",
              "   'compile': <function compile>,\n",
              "   'complex': complex,\n",
              "   'copyright': Copyright (c) 2001-2019 Python Software Foundation.\n",
              "   All Rights Reserved.\n",
              "   \n",
              "   Copyright (c) 2000 BeOpen.com.\n",
              "   All Rights Reserved.\n",
              "   \n",
              "   Copyright (c) 1995-2001 Corporation for National Research Initiatives.\n",
              "   All Rights Reserved.\n",
              "   \n",
              "   Copyright (c) 1991-1995 Stichting Mathematisch Centrum, Amsterdam.\n",
              "   All Rights Reserved.,\n",
              "   'credits':     Thanks to CWI, CNRI, BeOpen.com, Zope Corporation and a cast of thousands\n",
              "       for supporting Python development.  See www.python.org for more information.,\n",
              "   'delattr': <function delattr>,\n",
              "   'dict': dict,\n",
              "   'dir': <function dir>,\n",
              "   'display': <function IPython.core.display.display>,\n",
              "   'divmod': <function divmod>,\n",
              "   'dreload': <function IPython.lib.deepreload._dreload>,\n",
              "   'enumerate': enumerate,\n",
              "   'eval': <function eval>,\n",
              "   'exec': <function exec>,\n",
              "   'filter': filter,\n",
              "   'float': float,\n",
              "   'format': <function format>,\n",
              "   'frozenset': frozenset,\n",
              "   'get_ipython': <bound method InteractiveShell.get_ipython of <google.colab._shell.Shell object at 0x7f945ba25b70>>,\n",
              "   'getattr': <function getattr>,\n",
              "   'globals': <function globals>,\n",
              "   'hasattr': <function hasattr>,\n",
              "   'hash': <function hash>,\n",
              "   'help': Type help() for interactive help, or help(object) for help about object.,\n",
              "   'hex': <function hex>,\n",
              "   'id': <function id>,\n",
              "   'input': <bound method Kernel.raw_input of <google.colab._kernel.Kernel object at 0x7f945ba25a58>>,\n",
              "   'int': int,\n",
              "   'isinstance': <function isinstance>,\n",
              "   'issubclass': <function issubclass>,\n",
              "   'iter': <function iter>,\n",
              "   'len': <function len>,\n",
              "   'license': Type license() to see the full license text,\n",
              "   'list': list,\n",
              "   'locals': <function locals>,\n",
              "   'map': map,\n",
              "   'max': <function max>,\n",
              "   'memoryview': memoryview,\n",
              "   'min': <function min>,\n",
              "   'next': <function next>,\n",
              "   'object': object,\n",
              "   'oct': <function oct>,\n",
              "   'open': <function io.open>,\n",
              "   'ord': <function ord>,\n",
              "   'pow': <function pow>,\n",
              "   'print': <function print>,\n",
              "   'property': property,\n",
              "   'range': range,\n",
              "   'repr': <function repr>,\n",
              "   'reversed': reversed,\n",
              "   'round': <function round>,\n",
              "   'set': set,\n",
              "   'setattr': <function setattr>,\n",
              "   'slice': slice,\n",
              "   'sorted': <function sorted>,\n",
              "   'staticmethod': staticmethod,\n",
              "   'str': str,\n",
              "   'sum': <function sum>,\n",
              "   'super': super,\n",
              "   'tuple': tuple,\n",
              "   'type': type,\n",
              "   'vars': <function vars>,\n",
              "   'zip': zip}),\n",
              " ('__cached__',\n",
              "  '/usr/local/lib/python3.6/dist-packages/tqdm/contrib/__pycache__/__init__.cpython-36.pyc'),\n",
              " ('__doc__', None),\n",
              " ('__file__',\n",
              "  '/usr/local/lib/python3.6/dist-packages/tqdm/contrib/__init__.py'),\n",
              " ('__loader__',\n",
              "  <_frozen_importlib_external.SourceFileLoader at 0x7f944d7d7b38>),\n",
              " ('__name__', 'tqdm.contrib'),\n",
              " ('__package__', 'tqdm.contrib'),\n",
              " ('__path__', ['/usr/local/lib/python3.6/dist-packages/tqdm/contrib']),\n",
              " ('__spec__',\n",
              "  ModuleSpec(name='tqdm.contrib', loader=<_frozen_importlib_external.SourceFileLoader object at 0x7f944d7d7b38>, origin='/usr/local/lib/python3.6/dist-packages/tqdm/contrib/__init__.py', submodule_search_locations=['/usr/local/lib/python3.6/dist-packages/tqdm/contrib'])),\n",
              " ('tqdm', tqdm.std.tqdm)]"
            ]
          },
          "metadata": {
            "tags": []
          },
          "execution_count": 46
        }
      ]
    },
    {
      "cell_type": "code",
      "metadata": {
        "id": "Yr_a_4zg5scH"
      },
      "source": [
        ""
      ],
      "execution_count": 35,
      "outputs": []
    }
  ]
}